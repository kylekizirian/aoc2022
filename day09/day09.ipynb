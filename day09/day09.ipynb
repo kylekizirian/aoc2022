{
 "cells": [
  {
   "cell_type": "code",
   "execution_count": 1,
   "id": "8719570b-1c76-400d-883b-1f6533578969",
   "metadata": {},
   "outputs": [],
   "source": [
    "from collections import namedtuple\n",
    "from typing import Set, Tuple\n",
    "\n",
    "with open(\"input.txt\") as f:\n",
    "    lines = [l.strip() for l in f.readlines()]"
   ]
  },
  {
   "cell_type": "code",
   "execution_count": 2,
   "id": "f4de76c7-17a1-4d07-9379-3679e5e29371",
   "metadata": {},
   "outputs": [],
   "source": [
    "Point = namedtuple(\"Point\", \"x y\")\n",
    "\n",
    "\n",
    "def is_touching(tail: Point, head: Point) -> bool:\n",
    "    return abs(tail.x - head.x) <= 1 and abs(tail.y - head.y) <= 1\n",
    "\n",
    "def get_move(tail: Point, head: Point) -> Point:\n",
    "    \"\"\"Returns next move tail should make to get closer to head, returns tail if they are touching\"\"\"\n",
    "    if is_touching(tail, head):\n",
    "        return tail\n",
    "\n",
    "    x_move = y_move = 0\n",
    "\n",
    "    if tail.x > head.x:\n",
    "        x_move = -1\n",
    "    elif tail.x < head.x:\n",
    "        x_move = 1\n",
    "    \n",
    "    if tail.y > head.y:\n",
    "        y_move = -1\n",
    "    elif tail.y < head.y:\n",
    "        y_move = 1\n",
    "\n",
    "    return Point(tail.x + x_move, tail.y + y_move)\n",
    "    \n",
    "def get_moves(tail: Point, head: Point) -> Tuple[Set[Point], Point]:\n",
    "    \"\"\"Gets the set of moves to get from s to within 1 move of h, returns final position of s\"\"\"\n",
    "    moves = set([tail])\n",
    "    while not is_touching(tail, head):\n",
    "        tail = get_move(tail, head)\n",
    "        moves.add(tail)\n",
    "\n",
    "    return moves, tail\n",
    "\n",
    "def update_head(head: Point, instruction: str) -> Point:\n",
    "    \"\"\"Given an instruction, i.e. 'D 2', updates the position of head and returns a new point\"\"\"\n",
    "    direction, amount = instruction.split()\n",
    "    amount = int(amount)\n",
    "    \n",
    "    if direction == \"D\":\n",
    "        return Point(head.x, head.y - amount)\n",
    "    if direction == \"R\":\n",
    "        return Point(head.x + amount, head.y)\n",
    "    if direction == \"L\":\n",
    "        return Point(head.x - amount, head.y)\n",
    "    if direction == \"U\":\n",
    "        return Point(head.x, head.y + amount)\n",
    "\n",
    "    assert False, f\"unhandled direction {direction}\""
   ]
  },
  {
   "cell_type": "markdown",
   "id": "cea354be-aa42-40e5-bfcd-04bd9ae337ca",
   "metadata": {},
   "source": [
    "part 1: count the number of total moves in the simulation"
   ]
  },
  {
   "cell_type": "code",
   "execution_count": 3,
   "id": "02e28f2a-2944-4b55-82cc-684f9ceee081",
   "metadata": {},
   "outputs": [
    {
     "data": {
      "text/plain": [
       "'part 1: 6284'"
      ]
     },
     "execution_count": 3,
     "metadata": {},
     "output_type": "execute_result"
    }
   ],
   "source": [
    "head = tail = Point(0, 0)\n",
    "moves = set()\n",
    "for line in lines:\n",
    "    head = update_head(head, line)\n",
    "    next_moves, tail = get_moves(tail, head)\n",
    "    moves.update(next_moves)\n",
    "\n",
    "f\"part 1: {len(moves)}\""
   ]
  }
 ],
 "metadata": {
  "kernelspec": {
   "display_name": "Python 3 (ipykernel)",
   "language": "python",
   "name": "python3"
  },
  "language_info": {
   "codemirror_mode": {
    "name": "ipython",
    "version": 3
   },
   "file_extension": ".py",
   "mimetype": "text/x-python",
   "name": "python",
   "nbconvert_exporter": "python",
   "pygments_lexer": "ipython3",
   "version": "3.10.4"
  }
 },
 "nbformat": 4,
 "nbformat_minor": 5
}
