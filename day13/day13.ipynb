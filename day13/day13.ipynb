{
 "cells": [
  {
   "cell_type": "code",
   "execution_count": 1,
   "id": "e57a1fc0-24ee-4bc9-9a1a-8a12afc28ba0",
   "metadata": {},
   "outputs": [],
   "source": [
    "from collections import namedtuple\n",
    "from functools import cmp_to_key\n",
    "import json\n",
    "\n",
    "with open(\"input.txt\") as f:\n",
    "    lines = [l.strip() for l in f.readlines()]"
   ]
  },
  {
   "cell_type": "code",
   "execution_count": 2,
   "id": "c880e96e-5baf-4559-af02-8259e566690c",
   "metadata": {},
   "outputs": [],
   "source": [
    "Pair = namedtuple(\"Pair\", \"left right\")\n",
    "pairs = []\n",
    "\n",
    "for i in range(0, len(lines), 3):\n",
    "    pairs.append(Pair(json.loads(lines[i]), json.loads(lines[i+1])))"
   ]
  },
  {
   "cell_type": "code",
   "execution_count": 3,
   "id": "8b967b47-8b5b-44a1-8c85-94e0c0ea49dc",
   "metadata": {},
   "outputs": [],
   "source": [
    "ORDERED, UNORDERED, INDETERMINATE = -1, 1, 0\n",
    "\n",
    "def is_ordered(left, right):\n",
    "    if len(left) == 0 and len(right) == 0:\n",
    "        return INDETERMINATE\n",
    "    if len(left) == 0:\n",
    "        return ORDERED\n",
    "    if len(right) == 0:\n",
    "        return UNORDERED\n",
    "\n",
    "    l, r = left[0], right[0]\n",
    "    if isinstance(l, int) and isinstance(r, int):\n",
    "        if l < r:\n",
    "            return ORDERED\n",
    "        if l > r:\n",
    "            return UNORDERED\n",
    "\n",
    "    if isinstance(l, list) and isinstance(r, list):\n",
    "        res = is_ordered(l, r)\n",
    "        if res != INDETERMINATE:\n",
    "            return res\n",
    "\n",
    "    if isinstance(l, int) and isinstance(r, list):\n",
    "        res = is_ordered([l], r)\n",
    "        if res != INDETERMINATE:\n",
    "            return res\n",
    "\n",
    "    if isinstance(l, list) and isinstance(r, int):\n",
    "        res = is_ordered(l, [r])\n",
    "        if res != INDETERMINATE:\n",
    "            return res\n",
    "\n",
    "    return is_ordered(left[1:], right[1:])"
   ]
  },
  {
   "cell_type": "markdown",
   "id": "31cc9375-d941-4a8f-97b1-4523867e5ad7",
   "metadata": {},
   "source": [
    "# part 1"
   ]
  },
  {
   "cell_type": "code",
   "execution_count": 4,
   "id": "cbbe27e4-ea4e-49dd-9d98-6c646319a298",
   "metadata": {},
   "outputs": [
    {
     "data": {
      "text/plain": [
       "'part 1: 5555'"
      ]
     },
     "execution_count": 4,
     "metadata": {},
     "output_type": "execute_result"
    }
   ],
   "source": [
    "num_ordered = 0\n",
    "for i, pair in enumerate(pairs):\n",
    "    if is_ordered(pair.left, pair.right) == ORDERED:\n",
    "        num_ordered += i + 1\n",
    "\n",
    "f\"part 1: {num_ordered}\""
   ]
  },
  {
   "cell_type": "markdown",
   "id": "ccd8acb1-2e74-4a0b-87f5-bb1550e0d81a",
   "metadata": {},
   "source": [
    "# part 2"
   ]
  },
  {
   "cell_type": "code",
   "execution_count": 5,
   "id": "2b254b7a-e9e0-4d66-91d5-99225986aa01",
   "metadata": {},
   "outputs": [
    {
     "data": {
      "text/plain": [
       "'part 2: 22852'"
      ]
     },
     "execution_count": 5,
     "metadata": {},
     "output_type": "execute_result"
    }
   ],
   "source": [
    "packets = [json.loads(l) for l in lines if l] + [[[2]], [[6]]]\n",
    "packets = sorted(packets, key=cmp_to_key(is_ordered))\n",
    "f\"part 2: {(1 + packets.index([[2]])) * (1 + packets.index([[6]]))}\""
   ]
  }
 ],
 "metadata": {
  "kernelspec": {
   "display_name": "Python 3 (ipykernel)",
   "language": "python",
   "name": "python3"
  },
  "language_info": {
   "codemirror_mode": {
    "name": "ipython",
    "version": 3
   },
   "file_extension": ".py",
   "mimetype": "text/x-python",
   "name": "python",
   "nbconvert_exporter": "python",
   "pygments_lexer": "ipython3",
   "version": "3.10.4"
  }
 },
 "nbformat": 4,
 "nbformat_minor": 5
}
