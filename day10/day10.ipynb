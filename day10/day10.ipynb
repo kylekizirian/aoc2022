{
 "cells": [
  {
   "cell_type": "code",
   "execution_count": 1,
   "id": "38b1144e-e6e3-40e0-9c4b-5ef918e20a58",
   "metadata": {},
   "outputs": [],
   "source": [
    "with open(\"input.txt\") as f:\n",
    "    lines = [l.strip() for l in f.readlines()]"
   ]
  },
  {
   "cell_type": "markdown",
   "id": "5d7f47a8-327c-4f1b-9876-e2e58a525f6f",
   "metadata": {},
   "source": [
    "# part 1\n",
    "\n",
    "- noop increments cycle by 1\n",
    "- addx increments cycle by 2\n",
    "- if we are on the 20th, 40th, 60th... sum up current signal strength"
   ]
  },
  {
   "cell_type": "code",
   "execution_count": 2,
   "id": "e844531b-955b-42fd-b570-da2f7dc56d62",
   "metadata": {},
   "outputs": [
    {
     "data": {
      "text/plain": [
       "'part 1: 16880'"
      ]
     },
     "execution_count": 2,
     "metadata": {},
     "output_type": "execute_result"
    }
   ],
   "source": [
    "def get_signal_strength(cycle: int, x: int) -> int:\n",
    "    if (cycle - 20) % 40:\n",
    "        return 0\n",
    "\n",
    "    return cycle * x\n",
    "\n",
    "cycle = x = 1\n",
    "strength = 0\n",
    "for line in lines:\n",
    "    if line.startswith(\"noop\"):\n",
    "        cycle += 1\n",
    "        strength += get_signal_strength(cycle, x)\n",
    "\n",
    "    elif line.startswith(\"addx\"):\n",
    "        cycle += 1\n",
    "        strength += get_signal_strength(cycle, x)\n",
    "        _, amt = line.split()\n",
    "        x += int(amt)\n",
    "        cycle += 1\n",
    "        strength += get_signal_strength(cycle, x)\n",
    "\n",
    "f\"part 1: {strength}\""
   ]
  }
 ],
 "metadata": {
  "kernelspec": {
   "display_name": "Python 3 (ipykernel)",
   "language": "python",
   "name": "python3"
  },
  "language_info": {
   "codemirror_mode": {
    "name": "ipython",
    "version": 3
   },
   "file_extension": ".py",
   "mimetype": "text/x-python",
   "name": "python",
   "nbconvert_exporter": "python",
   "pygments_lexer": "ipython3",
   "version": "3.10.4"
  }
 },
 "nbformat": 4,
 "nbformat_minor": 5
}
