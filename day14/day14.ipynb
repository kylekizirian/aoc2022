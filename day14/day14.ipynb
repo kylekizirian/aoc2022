{
 "cells": [
  {
   "cell_type": "code",
   "execution_count": 1,
   "id": "b9699a99-0843-40d1-959f-bb421d2c9088",
   "metadata": {},
   "outputs": [],
   "source": [
    "from collections import namedtuple\n",
    "from enum import Enum\n",
    "from typing import Dict, List\n",
    "\n",
    "with open(\"input.txt\") as f:\n",
    "    lines = [l.strip() for l in f.readlines()]"
   ]
  },
  {
   "cell_type": "code",
   "execution_count": 2,
   "id": "5ef34bfd-f31f-48f8-9acc-9ec2d45134fc",
   "metadata": {},
   "outputs": [],
   "source": [
    "Point = namedtuple(\"Point\", \"x y\")\n",
    "\n",
    "class Element(Enum):\n",
    "    ROCK = 1\n",
    "    SAND = 2\n",
    "\n",
    "def line_to_points(l: str) -> List[Point]:\n",
    "    \"\"\"Parses a line in the format '498,4 -> 498,6 -> 496,6' into list of points\"\"\"\n",
    "    parts = l.split(\"->\")\n",
    "    points = []\n",
    "    for part in parts:\n",
    "        x, y = part.split(\",\")\n",
    "        points.append(Point(int(x), int(y)))\n",
    "    return points\n",
    "\n",
    "def all_points_inclusive(start, end: Point) -> List[Point]:\n",
    "    \"\"\"Take start and end point, return all points between them with start and end inclusive\"\"\"\n",
    "    points = []\n",
    "    if start.x == end.x:\n",
    "        min_y, max_y = min(start.y, end.y), max(start.y, end.y)\n",
    "        return [\n",
    "            Point(start.x, y) for y in range(min_y, max_y+1)\n",
    "        ]\n",
    "\n",
    "    min_x, max_x = min(start.x, end.x), max(start.x, end.x)\n",
    "    return [\n",
    "        Point(x, start.y) for x in range(min_x, max_x+1)\n",
    "    ]\n",
    " \n",
    "\n",
    "def init_grid(lines: List[str]) -> Dict[Point, Element]:\n",
    "    grid = {}\n",
    "    for l in lines:\n",
    "        parsed = line_to_points(l)\n",
    "        for i in range(len(parsed)-1):\n",
    "            points = all_points_inclusive(parsed[i], parsed[i+1])\n",
    "            \n",
    "            for point in points:\n",
    "                grid[point] = Element.ROCK\n",
    "    \n",
    "    return grid\n",
    "\n",
    "def count_sand(grid: Dict[Point, Element]) -> int:\n",
    "    return sum(el == Element.SAND for el in grid.values())"
   ]
  },
  {
   "cell_type": "code",
   "execution_count": 3,
   "id": "eb719fcc-8062-4300-9cc3-8c995987d7ca",
   "metadata": {},
   "outputs": [
    {
     "data": {
      "text/plain": [
       "'part 1: 892'"
      ]
     },
     "execution_count": 3,
     "metadata": {},
     "output_type": "execute_result"
    }
   ],
   "source": [
    "def simulate_part1(grid: Dict[Point, Element]) -> Dict[Point, Element]:\n",
    "    \"\"\"Run simulation until water overflows\"\"\"\n",
    "    # find lowest Y point, and once we have sand that\n",
    "    # passes the lowest Y point, then we are done\n",
    "    lowest_y = float(\"-inf\")\n",
    "    for p in grid.keys():\n",
    "        lowest_y = max(lowest_y, p.y)\n",
    "\n",
    "    while True:\n",
    "        # start drop at (500, 0) and apply rules until it comes to rest or passes lowest_y\n",
    "        p = Point(500, 0)\n",
    "        while True:\n",
    "            if p.y > lowest_y:\n",
    "                return grid\n",
    "\n",
    "            if Point(p.x, p.y+1) not in grid:\n",
    "                p = Point(p.x, p.y+1)\n",
    "            elif Point(p.x-1, p.y+1) not in grid:\n",
    "                p = Point(p.x-1, p.y+1)\n",
    "            elif Point(p.x+1, p.y+1) not in grid:\n",
    "                p = Point(p.x+1, p.y+1)\n",
    "            else:\n",
    "                grid[p] = Element.SAND\n",
    "                break\n",
    "\n",
    "\n",
    "f\"part 1: {count_sand(simulate_part1(init_grid(lines)))}\""
   ]
  },
  {
   "cell_type": "code",
   "execution_count": 4,
   "id": "30dd1f1e-cc16-4b22-a417-b21106241172",
   "metadata": {},
   "outputs": [
    {
     "data": {
      "text/plain": [
       "'part 2: 27155'"
      ]
     },
     "execution_count": 4,
     "metadata": {},
     "output_type": "execute_result"
    }
   ],
   "source": [
    "def simulate_part2(grid: Dict[Point, Element]) -> Dict[Point, Element]:\n",
    "    \"\"\"Run simulation until water reaches (500, 0)\"\"\"\n",
    "    start = Point(500, 0)\n",
    "    # find lowest Y point, and floor is 2 lower than lowest y\n",
    "    lowest_y = float(\"-inf\")\n",
    "    for p in grid.keys():\n",
    "        lowest_y = max(lowest_y, p.y)\n",
    "\n",
    "    floor_y = lowest_y + 2\n",
    "\n",
    "    while start not in grid:\n",
    "        p = start\n",
    "        while True:\n",
    "            if p.y + 1 == floor_y:\n",
    "                grid[p] = Element.SAND\n",
    "                break\n",
    "\n",
    "            if Point(p.x, p.y+1) not in grid:\n",
    "                p = Point(p.x, p.y+1)\n",
    "            elif Point(p.x-1, p.y+1) not in grid:\n",
    "                p = Point(p.x-1, p.y+1)\n",
    "            elif Point(p.x+1, p.y+1) not in grid:\n",
    "                p = Point(p.x+1, p.y+1)\n",
    "            else:\n",
    "                grid[p] = Element.SAND\n",
    "                break\n",
    "\n",
    "    return grid\n",
    "\n",
    "\n",
    "f\"part 2: {count_sand(simulate_part2(init_grid(lines)))}\""
   ]
  }
 ],
 "metadata": {
  "kernelspec": {
   "display_name": "Python 3 (ipykernel)",
   "language": "python",
   "name": "python3"
  },
  "language_info": {
   "codemirror_mode": {
    "name": "ipython",
    "version": 3
   },
   "file_extension": ".py",
   "mimetype": "text/x-python",
   "name": "python",
   "nbconvert_exporter": "python",
   "pygments_lexer": "ipython3",
   "version": "3.10.4"
  }
 },
 "nbformat": 4,
 "nbformat_minor": 5
}
