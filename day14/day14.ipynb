{
 "cells": [
  {
   "cell_type": "code",
   "execution_count": 1,
   "id": "b9699a99-0843-40d1-959f-bb421d2c9088",
   "metadata": {},
   "outputs": [],
   "source": [
    "from collections import namedtuple\n",
    "from enum import Enum\n",
    "from typing import Dict, List\n",
    "\n",
    "with open(\"input.txt\") as f:\n",
    "    lines = [l.strip() for l in f.readlines()]"
   ]
  },
  {
   "cell_type": "code",
   "execution_count": 2,
   "id": "5ef34bfd-f31f-48f8-9acc-9ec2d45134fc",
   "metadata": {},
   "outputs": [],
   "source": [
    "Point = namedtuple(\"Point\", \"x y\")\n",
    "\n",
    "class Element(Enum):\n",
    "    ROCK = 1\n",
    "    WATER = 2\n",
    "\n",
    "def line_to_points(l: str) -> List[Point]:\n",
    "    \"\"\"Parses a line in the format '498,4 -> 498,6 -> 496,6' into list of points\"\"\"\n",
    "    parts = l.split(\"->\")\n",
    "    points = []\n",
    "    for part in parts:\n",
    "        x, y = part.split(\",\")\n",
    "        points.append(Point(int(x), int(y)))\n",
    "    return points\n",
    "\n",
    "def all_points_inclusive(start, end: Point) -> List[Point]:\n",
    "    \"\"\"Take start and end point, return all points between them with start and end inclusive\"\"\"\n",
    "    points = []\n",
    "    if start.x == end.x:\n",
    "        min_y, max_y = min(start.y, end.y), max(start.y, end.y)\n",
    "        return [\n",
    "            Point(start.x, y) for y in range(min_y, max_y+1)\n",
    "        ]\n",
    "\n",
    "    min_x, max_x = min(start.x, end.x), max(start.x, end.x)\n",
    "    return [\n",
    "        Point(x, start.y) for x in range(min_x, max_x+1)\n",
    "    ]\n",
    " \n",
    "\n",
    "def init_grid(lines: List[str]) -> Dict[Point, Element]:\n",
    "    grid = {}\n",
    "    for l in lines:\n",
    "        parsed = line_to_points(l)\n",
    "        for i in range(len(parsed)-1):\n",
    "            points = all_points_inclusive(parsed[i], parsed[i+1])\n",
    "            \n",
    "            for point in points:\n",
    "                grid[point] = Element.ROCK\n",
    "    \n",
    "    return grid"
   ]
  },
  {
   "cell_type": "code",
   "execution_count": 3,
   "id": "eb719fcc-8062-4300-9cc3-8c995987d7ca",
   "metadata": {},
   "outputs": [
    {
     "data": {
      "text/plain": [
       "'part 1: 892'"
      ]
     },
     "execution_count": 3,
     "metadata": {},
     "output_type": "execute_result"
    }
   ],
   "source": [
    "def simulate(grid: Dict[Point, Element]) -> Dict[Point, Element]:\n",
    "    \"\"\"Run simulation until water overflows\"\"\"\n",
    "    # TODO: find lowest Y point, and once we have a water drop that\n",
    "    # passes the lowest Y point, then we are done\n",
    "    lowest_y = float(\"-inf\")\n",
    "    for p in grid.keys():\n",
    "        lowest_y = max(lowest_y, p.y)\n",
    "\n",
    "    while True:\n",
    "        # start drop at (500, 0) and apply rules until it comes to rest or passes lowest_y\n",
    "        p = Point(500, 0)\n",
    "        while True:\n",
    "            if p.y > lowest_y:\n",
    "                return grid\n",
    "\n",
    "            if Point(p.x, p.y+1) not in grid:\n",
    "                p = Point(p.x, p.y+1)\n",
    "            elif Point(p.x-1, p.y+1) not in grid:\n",
    "                p = Point(p.x-1, p.y+1)\n",
    "            elif Point(p.x+1, p.y+1) not in grid:\n",
    "                p = Point(p.x+1, p.y+1)\n",
    "            else:\n",
    "                grid[p] = Element.WATER\n",
    "                break\n",
    "\n",
    "\n",
    "num_water = sum(el == Element.WATER for el in simulate(init_grid(lines)).values())\n",
    "f\"part 1: {num_water}\""
   ]
  }
 ],
 "metadata": {
  "kernelspec": {
   "display_name": "Python 3 (ipykernel)",
   "language": "python",
   "name": "python3"
  },
  "language_info": {
   "codemirror_mode": {
    "name": "ipython",
    "version": 3
   },
   "file_extension": ".py",
   "mimetype": "text/x-python",
   "name": "python",
   "nbconvert_exporter": "python",
   "pygments_lexer": "ipython3",
   "version": "3.10.4"
  }
 },
 "nbformat": 4,
 "nbformat_minor": 5
}
