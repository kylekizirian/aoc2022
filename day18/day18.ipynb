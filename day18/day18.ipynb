{
 "cells": [
  {
   "cell_type": "code",
   "execution_count": 1,
   "id": "b333ce79-43d3-469d-8db2-34e924881fe5",
   "metadata": {},
   "outputs": [],
   "source": [
    "from collections import defaultdict, namedtuple\n",
    "\n",
    "with open(\"input.txt\") as f:\n",
    "    lines = [l.strip() for l in f.readlines()]"
   ]
  },
  {
   "cell_type": "code",
   "execution_count": 2,
   "id": "6e23f5f0-cdeb-4a79-a508-6da1834eb44a",
   "metadata": {},
   "outputs": [],
   "source": [
    "Point = namedtuple(\"Point\", \"x y z\")\n",
    "\n",
    "points = []\n",
    "x_to_point, y_to_point, z_to_point = defaultdict(set), defaultdict(set), defaultdict(set)\n",
    "\n",
    "for line in lines:\n",
    "    parts = line.split(\",\")\n",
    "    p = Point(int(parts[0]), int(parts[1]), int(parts[2]))\n",
    "    points.append(p)\n",
    "    x_to_point[p.x].add(p)\n",
    "    y_to_point[p.y].add(p)\n",
    "    z_to_point[p.z].add(p)"
   ]
  },
  {
   "cell_type": "code",
   "execution_count": 3,
   "id": "0483d141-ed77-4e62-8e8d-fdf1fb349ed7",
   "metadata": {},
   "outputs": [
    {
     "data": {
      "text/plain": [
       "'part 1: 4460'"
      ]
     },
     "execution_count": 3,
     "metadata": {},
     "output_type": "execute_result"
    }
   ],
   "source": [
    "num_sides = len(points) * 6\n",
    "\n",
    "for p in points:\n",
    "    # look for cubes that share two sides, and with third sides + or - 1\n",
    "    share_sides = x_to_point[p.x].intersection(y_to_point[p.y]).intersection(z_to_point[p.z+1])\n",
    "    share_sides |= x_to_point[p.x].intersection(y_to_point[p.y]).intersection(z_to_point[p.z-1])\n",
    "    share_sides |= x_to_point[p.x].intersection(y_to_point[p.y+1]).intersection(z_to_point[p.z])\n",
    "    share_sides |= x_to_point[p.x].intersection(y_to_point[p.y-1]).intersection(z_to_point[p.z])\n",
    "    share_sides |= x_to_point[p.x+1].intersection(y_to_point[p.y]).intersection(z_to_point[p.z])\n",
    "    share_sides |= x_to_point[p.x-1].intersection(y_to_point[p.y]).intersection(z_to_point[p.z])\n",
    "    num_sides -= len(share_sides)\n",
    "\n",
    "f\"part 1: {num_sides}\""
   ]
  }
 ],
 "metadata": {
  "kernelspec": {
   "display_name": "Python 3 (ipykernel)",
   "language": "python",
   "name": "python3"
  },
  "language_info": {
   "codemirror_mode": {
    "name": "ipython",
    "version": 3
   },
   "file_extension": ".py",
   "mimetype": "text/x-python",
   "name": "python",
   "nbconvert_exporter": "python",
   "pygments_lexer": "ipython3",
   "version": "3.10.4"
  }
 },
 "nbformat": 4,
 "nbformat_minor": 5
}
