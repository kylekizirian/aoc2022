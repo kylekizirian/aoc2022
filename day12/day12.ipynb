{
 "cells": [
  {
   "cell_type": "code",
   "execution_count": 1,
   "id": "f8c59947-2531-416e-b733-737549b94835",
   "metadata": {},
   "outputs": [],
   "source": [
    "from collections import deque, namedtuple\n",
    "from typing import List, Tuple\n",
    "\n",
    "with open(\"input.txt\") as f:\n",
    "    grid = [list(l.strip()) for l in f.readlines()]"
   ]
  },
  {
   "cell_type": "code",
   "execution_count": 2,
   "id": "0478696a-524f-4205-a7d7-d55da32b9e5d",
   "metadata": {},
   "outputs": [
    {
     "data": {
      "text/plain": [
       "1"
      ]
     },
     "execution_count": 2,
     "metadata": {},
     "output_type": "execute_result"
    }
   ],
   "source": [
    "ord('b') - ord('a')"
   ]
  },
  {
   "cell_type": "code",
   "execution_count": 3,
   "id": "6d4c135d-c3c0-4596-b3cb-1b3e62bf62d4",
   "metadata": {},
   "outputs": [],
   "source": [
    "Pos = namedtuple(\"Pos\", \"row col\")\n",
    "\n",
    "def parse_grid(grid: List[List[str]]) -> Tuple[Pos, Pos, List[List[int]]]:\n",
    "    \"\"\"Get start + end position, and convert grid to numerics 1 through 26\"\"\"\n",
    "    start, goal = None, None\n",
    "    grid_vals = []\n",
    "    for r, row in enumerate(grid):\n",
    "        cur_row = []\n",
    "        for c, col in enumerate(row):\n",
    "            if col == \"S\":\n",
    "                start = Pos(r, c)\n",
    "                cur_row.append(1)\n",
    "            elif col == \"E\":\n",
    "                goal = Pos(r, c)\n",
    "                cur_row.append(26)\n",
    "            else:\n",
    "                cur_row.append(1 + ord(col) - ord('a'))\n",
    "\n",
    "        grid_vals.append(cur_row)\n",
    "    \n",
    "    return start, goal, grid_vals\n",
    "\n",
    "def allowed_moves(pos: Pos, grid: List[List[int]]) -> List[Pos]:\n",
    "    \"\"\"Get list of possible next moves from current position\"\"\"\n",
    "    possible = []\n",
    "    max_next_move = grid[pos.row][pos.col] + 1\n",
    "    if pos.row > 0 and grid[pos.row-1][pos.col] <= max_next_move:\n",
    "        possible.append(Pos(pos.row-1, pos.col))\n",
    "    if pos.col > 0 and grid[pos.row][pos.col-1] <= max_next_move:\n",
    "        possible.append(Pos(pos.row, pos.col-1))\n",
    "    if pos.row < len(grid) - 1 and grid[pos.row+1][pos.col] <= max_next_move:\n",
    "        possible.append(Pos(pos.row+1, pos.col))\n",
    "    if pos.col < len(grid[0]) - 1 and grid[pos.row][pos.col+1] <= max_next_move:\n",
    "        possible.append(Pos(pos.row, pos.col+1))\n",
    "\n",
    "    return possible"
   ]
  },
  {
   "cell_type": "markdown",
   "id": "d6d167ca-f416-4958-906c-59200c0ff4eb",
   "metadata": {},
   "source": [
    "# part 1\n",
    "\n",
    "BFS and keep a visited list, until we get to the end position"
   ]
  },
  {
   "cell_type": "code",
   "execution_count": 4,
   "id": "425f7129-e784-402e-b355-3559c19159d1",
   "metadata": {},
   "outputs": [
    {
     "name": "stdout",
     "output_type": "stream",
     "text": [
      "part 1: 472\n"
     ]
    }
   ],
   "source": [
    "cur, end, parsed_grid = parse_grid(grid)\n",
    "to_visit, visited = deque(), set()\n",
    "to_visit.append(tuple((cur, 0)))\n",
    "\n",
    "while True:\n",
    "    loc, num_moves = to_visit.popleft()\n",
    "    if tuple(loc) in visited:\n",
    "        continue\n",
    "\n",
    "    visited.add(tuple(loc))\n",
    "\n",
    "    found = False\n",
    "    possible = allowed_moves(loc, parsed_grid)\n",
    "    for p in possible:\n",
    "        if p == end:\n",
    "            print(f\"part 1: {num_moves+1}\")\n",
    "            found = True\n",
    "        if p not in visited:\n",
    "            to_visit.append(tuple((p, num_moves+1)))\n",
    "    \n",
    "    if found:\n",
    "        break"
   ]
  }
 ],
 "metadata": {
  "kernelspec": {
   "display_name": "Python 3.7.5 64-bit ('math': conda)",
   "language": "python",
   "name": "python37564bitmathconda3c1422069eaf4c3f9b49eaa87ff9aec1"
  },
  "language_info": {
   "codemirror_mode": {
    "name": "ipython",
    "version": 3
   },
   "file_extension": ".py",
   "mimetype": "text/x-python",
   "name": "python",
   "nbconvert_exporter": "python",
   "pygments_lexer": "ipython3",
   "version": "3.7.7"
  }
 },
 "nbformat": 4,
 "nbformat_minor": 5
}
