{
 "cells": [
  {
   "cell_type": "code",
   "execution_count": 1,
   "id": "412b0e71-8ce5-4c43-9dbe-c9b85ca0a36b",
   "metadata": {},
   "outputs": [],
   "source": [
    "from functools import reduce\n",
    "from operator import add, mul\n",
    "from typing import List\n",
    "\n",
    "with open(\"input.txt\") as f:\n",
    "    lines = [l.strip() for l in f.readlines()]"
   ]
  },
  {
   "cell_type": "code",
   "execution_count": 2,
   "id": "0120c1ec-1e38-45cf-a455-a9bb0303c3f5",
   "metadata": {},
   "outputs": [],
   "source": [
    "class Monkey:\n",
    "\n",
    "    def __init__(self, lines: List[str]):\n",
    "        self.items = [int(num) for num in lines[0].split(\":\")[1].split(\",\")]\n",
    "        self.operation = self._operation(lines[1].split(\"=\")[1])\n",
    "        self.test = self._test(\n",
    "            int(lines[2].split()[-1]), int(lines[3].split()[-1]), int(lines[4].split()[-1])\n",
    "        )\n",
    "        self.num_inspections = 0\n",
    "\n",
    "    def _operation(self, operation: str):\n",
    "        \"\"\"Returns a function which accepts old val and returns new\"\"\"\n",
    "        left, op, right = operation.split()\n",
    "        assert op in {\"+\", \"*\"}\n",
    "        op = add if op == \"+\" else mul\n",
    "\n",
    "        def inner(old: int) -> int:\n",
    "            first = old if left == \"old\" else int(left)\n",
    "            second = old if right == \"old\" else int(right)\n",
    "            return op(first, second)\n",
    "\n",
    "        return inner\n",
    "\n",
    "    def _test(self, divisible_by: int, if_true: int, if_false: int):\n",
    "        return lambda val: if_true if val % divisible_by == 0 else if_false"
   ]
  },
  {
   "cell_type": "markdown",
   "id": "d8c164e1-6777-40df-aed0-49d86895cd9b",
   "metadata": {},
   "source": [
    "# part 1\n",
    "\n",
    "Simulate monkey operations for 20 rounds"
   ]
  },
  {
   "cell_type": "code",
   "execution_count": 3,
   "id": "0403382c-bccc-4170-b231-138c250949a3",
   "metadata": {},
   "outputs": [
    {
     "data": {
      "text/plain": [
       "113232"
      ]
     },
     "execution_count": 3,
     "metadata": {},
     "output_type": "execute_result"
    }
   ],
   "source": [
    "monkeys = [\n",
    "    Monkey(lines[1:6]),\n",
    "    Monkey(lines[8:13]),\n",
    "    Monkey(lines[15:20]),\n",
    "    Monkey(lines[22:27]),\n",
    "    Monkey(lines[29:34]),\n",
    "    Monkey(lines[36:41]),\n",
    "    Monkey(lines[43:48]),\n",
    "    Monkey(lines[50:55]),\n",
    "]\n",
    "\n",
    "for _ in range(20):\n",
    "    for monkey in monkeys:\n",
    "        while monkey.items:\n",
    "            monkey.num_inspections += 1\n",
    "            item = monkey.items.pop(0)\n",
    "            item = int(monkey.operation(item) / 3)\n",
    "            monkeys[monkey.test(item)].items.append(item)\n",
    "    \n",
    "inspections = sorted([m.num_inspections for m in monkeys])\n",
    "inspections[-2] * inspections[-1]"
   ]
  },
  {
   "cell_type": "markdown",
   "id": "83f496f7-cf56-4ecf-b46b-2636f59244b5",
   "metadata": {},
   "source": [
    "# part 2\n",
    "\n",
    "Instead of dividing by 3, take result of the operation modulus the product of all\n",
    "of the \"divisible by\" tests."
   ]
  },
  {
   "cell_type": "code",
   "execution_count": 4,
   "id": "17e54474-005b-4203-bf84-b781938d7293",
   "metadata": {},
   "outputs": [
    {
     "data": {
      "text/plain": [
       "29703395016"
      ]
     },
     "execution_count": 4,
     "metadata": {},
     "output_type": "execute_result"
    }
   ],
   "source": [
    "monkeys = [\n",
    "    Monkey(lines[1:6]),\n",
    "    Monkey(lines[8:13]),\n",
    "    Monkey(lines[15:20]),\n",
    "    Monkey(lines[22:27]),\n",
    "    Monkey(lines[29:34]),\n",
    "    Monkey(lines[36:41]),\n",
    "    Monkey(lines[43:48]),\n",
    "    Monkey(lines[50:55]),\n",
    "]\n",
    "\n",
    "divisible_by = []\n",
    "\n",
    "for line in lines:\n",
    "    if line and line.split()[0].startswith(\"Test:\"):\n",
    "        divisible_by.append(int(line.split()[-1]))\n",
    "\n",
    "mod_val = reduce(mul, divisible_by)\n",
    "\n",
    "for round_n in range(10_000):\n",
    "    for monkey in monkeys:\n",
    "        while monkey.items:\n",
    "            monkey.num_inspections += 1\n",
    "            item = monkey.items.pop(0)\n",
    "            item = monkey.operation(item) % mod_val\n",
    "            monkeys[monkey.test(item)].items.append(item)\n",
    "\n",
    "inspections = sorted([m.num_inspections for m in monkeys])\n",
    "inspections[-2] * inspections[-1]"
   ]
  }
 ],
 "metadata": {
  "kernelspec": {
   "display_name": "Python 3 (ipykernel)",
   "language": "python",
   "name": "python3"
  },
  "language_info": {
   "codemirror_mode": {
    "name": "ipython",
    "version": 3
   },
   "file_extension": ".py",
   "mimetype": "text/x-python",
   "name": "python",
   "nbconvert_exporter": "python",
   "pygments_lexer": "ipython3",
   "version": "3.10.4"
  }
 },
 "nbformat": 4,
 "nbformat_minor": 5
}
